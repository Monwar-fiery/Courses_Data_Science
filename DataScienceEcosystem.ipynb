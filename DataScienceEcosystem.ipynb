{
  "nbformat": 4,
  "nbformat_minor": 0,
  "metadata": {
    "colab": {
      "provenance": []
    },
    "kernelspec": {
      "name": "python3",
      "display_name": "Python 3"
    },
    "language_info": {
      "name": "python"
    }
  },
  "cells": [
    {
      "cell_type": "markdown",
      "source": [
        "# Data Science Tools and Ecosystem\n",
        "\n",
        "\n",
        "In this notebook, Data Science Tools and Ecosystem are summarized."
      ],
      "metadata": {
        "id": "VWBpBHZdcMGm"
      }
    },
    {
      "cell_type": "markdown",
      "source": [
        "**Objectives:**\n",
        "\n",
        "+ List popular languages for Data Science.\n",
        "+ The libraries used by Data Scientists.\n",
        "+ Open-source Data Science Tools\n",
        "\n"
      ],
      "metadata": {
        "id": "mB6bnwNivC7M"
      }
    },
    {
      "cell_type": "markdown",
      "source": [
        "Some of the popular languages that Data Scientists use are:\n",
        "1. Python\n",
        "2. R\n",
        "3. Java\n",
        "4. Scala\n",
        "\n",
        "\n"
      ],
      "metadata": {
        "id": "rJgeOWv8eW5t"
      }
    },
    {
      "cell_type": "markdown",
      "source": [
        "Some of the commonly used libraries used by Data Scientists include:\n",
        "1. Pandas\n",
        "2. Numpy\n",
        "3. Keras\n",
        "4. Seaborn\n"
      ],
      "metadata": {
        "id": "4pt0CbhLgJia"
      }
    },
    {
      "cell_type": "markdown",
      "source": [
        "## Data Science Tools\n",
        "\n",
        "Create a single column table in this cell with the first row containing the header Data Science Tools. The subsequent three rows in the table should indicate three development environment open source tools used in data science.\n",
        "\n",
        "Take a screenshot of the markdown cell and name it as 6-dstools.png\n",
        "\n",
        "Hint: Refer to Lab: Using Markdowns in Jupyter Notebooks to create a table.\n",
        "\n",
        "| *Data Science Tools* |\n",
        "|--------------------|\n",
        "| VS Code |\n",
        "| Jupyter Notebook |\n",
        "| RStudio |\n"
      ],
      "metadata": {
        "id": "KDWG7fDZhFWS"
      }
    },
    {
      "cell_type": "markdown",
      "source": [
        "### Below are a few examples of evaluating arithmetic expressions in Python"
      ],
      "metadata": {
        "id": "cNjYHo7-qD90"
      }
    },
    {
      "cell_type": "code",
      "source": [
        "45%4"
      ],
      "metadata": {
        "colab": {
          "base_uri": "https://localhost:8080/"
        },
        "id": "4ct0xyZdqKdb",
        "outputId": "fee832f4-73dd-4fba-be3e-54c13a40d2e0"
      },
      "execution_count": null,
      "outputs": [
        {
          "output_type": "execute_result",
          "data": {
            "text/plain": [
              "1"
            ]
          },
          "metadata": {},
          "execution_count": 1
        }
      ]
    },
    {
      "cell_type": "code",
      "source": [
        "y = 3434**2\n",
        "y"
      ],
      "metadata": {
        "colab": {
          "base_uri": "https://localhost:8080/"
        },
        "id": "rTvft1ycqUxB",
        "outputId": "2d9fa77d-f0fc-411c-dc73-0d0dcdd9af15"
      },
      "execution_count": null,
      "outputs": [
        {
          "output_type": "execute_result",
          "data": {
            "text/plain": [
              "11792356"
            ]
          },
          "metadata": {},
          "execution_count": 3
        }
      ]
    },
    {
      "cell_type": "code",
      "source": [
        "34 + 9"
      ],
      "metadata": {
        "colab": {
          "base_uri": "https://localhost:8080/"
        },
        "id": "j3UWVtDSqh89",
        "outputId": "9809b046-5be1-446b-a2ab-eb594e23a9f7"
      },
      "execution_count": null,
      "outputs": [
        {
          "output_type": "execute_result",
          "data": {
            "text/plain": [
              "43"
            ]
          },
          "metadata": {},
          "execution_count": 4
        }
      ]
    },
    {
      "cell_type": "code",
      "source": [
        "# This a simple arithmetic expression to mutiply then add integers.\n",
        "(3*4)+5"
      ],
      "metadata": {
        "colab": {
          "base_uri": "https://localhost:8080/"
        },
        "id": "hsJT3upFq-aJ",
        "outputId": "d7766808-b032-4e64-a00d-e4cc047815df"
      },
      "execution_count": null,
      "outputs": [
        {
          "output_type": "execute_result",
          "data": {
            "text/plain": [
              "17"
            ]
          },
          "metadata": {},
          "execution_count": 5
        }
      ]
    },
    {
      "cell_type": "code",
      "source": [
        "# This will convert 200 minutes to hours by diving by 60. Run the cell to evaluate the expression.\n",
        "200 / 60"
      ],
      "metadata": {
        "colab": {
          "base_uri": "https://localhost:8080/"
        },
        "id": "ds6p_APArxWY",
        "outputId": "9c4204f1-042e-408d-8203-c030bed01d61"
      },
      "execution_count": null,
      "outputs": [
        {
          "output_type": "execute_result",
          "data": {
            "text/plain": [
              "3.3333333333333335"
            ]
          },
          "metadata": {},
          "execution_count": 6
        }
      ]
    },
    {
      "cell_type": "markdown",
      "source": [
        "## Author\n",
        "\n",
        "Monika"
      ],
      "metadata": {
        "id": "5q1kTtTFwRIf"
      }
    }
  ]
}